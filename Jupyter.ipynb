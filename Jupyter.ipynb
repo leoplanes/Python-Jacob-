{
 "cells": [
  {
   "cell_type": "code",
   "execution_count": 1,
   "metadata": {},
   "outputs": [
    {
     "name": "stdout",
     "output_type": "stream",
     "text": [
      "Yorkshire Terrier                       858\n",
      "Shih Tzu                                839\n",
      "Chihuahua                               670\n",
      "Maltese                                 519\n",
      "Labrador Retriever                      444\n",
      "American Pit Bull Mix / Pit Bull Mix    379\n",
      "Labrador Retriever Crossbreed           328\n",
      "American Pit Bull Terrier/Pit Bull      311\n",
      "Havanese                                268\n",
      "Jack Russell Terrier                    255\n",
      "Name: BreedName, dtype: int64\n",
      "Index(['AnimalName', 'AnimalGender', 'AnimalBirthMonth_x', 'BreedName',\n",
      "       'LicenseIssuedDate', 'LicenseExpiredDate', 'Extract Year', 'ZipCode_x',\n",
      "       'Borough', 'Unique Dog ID', 'UniqueID', 'DateOfBite', 'SpayNeuter',\n",
      "       'ZipCode_y', 'AnimalBirthMonth_y'],\n",
      "      dtype='object')\n"
     ]
    },
    {
     "ename": "ValueError",
     "evalue": "Mime type rendering requires nbformat>=4.2.0 but it is not installed",
     "output_type": "error",
     "traceback": [
      "\u001b[1;31m---------------------------------------------------------------------------\u001b[0m",
      "\u001b[1;31mValueError\u001b[0m                                Traceback (most recent call last)",
      "Cell \u001b[1;32mIn[1], line 23\u001b[0m\n\u001b[0;32m     15\u001b[0m fig \u001b[39m=\u001b[39m go\u001b[39m.\u001b[39mFigure([go\u001b[39m.\u001b[39mBar(x\u001b[39m=\u001b[39mdata[\u001b[39m'\u001b[39m\u001b[39mbreeds\u001b[39m\u001b[39m'\u001b[39m], y\u001b[39m=\u001b[39mdata[\u001b[39m'\u001b[39m\u001b[39mcounts\u001b[39m\u001b[39m'\u001b[39m])])\n\u001b[0;32m     17\u001b[0m fig\u001b[39m.\u001b[39mupdate_layout(\n\u001b[0;32m     18\u001b[0m     title\u001b[39m=\u001b[39m\u001b[39m'\u001b[39m\u001b[39mRaces de chiens mordant le plus\u001b[39m\u001b[39m'\u001b[39m,\n\u001b[0;32m     19\u001b[0m     xaxis_title\u001b[39m=\u001b[39m\u001b[39m'\u001b[39m\u001b[39mRaces de chiens\u001b[39m\u001b[39m'\u001b[39m,\n\u001b[0;32m     20\u001b[0m     yaxis_title\u001b[39m=\u001b[39m\u001b[39m'\u001b[39m\u001b[39mNombre de morsures\u001b[39m\u001b[39m'\u001b[39m\n\u001b[0;32m     21\u001b[0m )\n\u001b[1;32m---> 23\u001b[0m fig\u001b[39m.\u001b[39;49mshow()\n",
      "File \u001b[1;32mc:\\Users\\leo85\\AppData\\Local\\Programs\\Python\\Python311\\Lib\\site-packages\\plotly\\basedatatypes.py:3398\u001b[0m, in \u001b[0;36mBaseFigure.show\u001b[1;34m(self, *args, **kwargs)\u001b[0m\n\u001b[0;32m   3365\u001b[0m \u001b[39m\u001b[39m\u001b[39m\"\"\"\u001b[39;00m\n\u001b[0;32m   3366\u001b[0m \u001b[39mShow a figure using either the default renderer(s) or the renderer(s)\u001b[39;00m\n\u001b[0;32m   3367\u001b[0m \u001b[39mspecified by the renderer argument\u001b[39;00m\n\u001b[1;32m   (...)\u001b[0m\n\u001b[0;32m   3394\u001b[0m \u001b[39mNone\u001b[39;00m\n\u001b[0;32m   3395\u001b[0m \u001b[39m\"\"\"\u001b[39;00m\n\u001b[0;32m   3396\u001b[0m \u001b[39mimport\u001b[39;00m \u001b[39mplotly\u001b[39;00m\u001b[39m.\u001b[39;00m\u001b[39mio\u001b[39;00m \u001b[39mas\u001b[39;00m \u001b[39mpio\u001b[39;00m\n\u001b[1;32m-> 3398\u001b[0m \u001b[39mreturn\u001b[39;00m pio\u001b[39m.\u001b[39;49mshow(\u001b[39mself\u001b[39;49m, \u001b[39m*\u001b[39;49margs, \u001b[39m*\u001b[39;49m\u001b[39m*\u001b[39;49mkwargs)\n",
      "File \u001b[1;32mc:\\Users\\leo85\\AppData\\Local\\Programs\\Python\\Python311\\Lib\\site-packages\\plotly\\io\\_renderers.py:396\u001b[0m, in \u001b[0;36mshow\u001b[1;34m(fig, renderer, validate, **kwargs)\u001b[0m\n\u001b[0;32m    391\u001b[0m         \u001b[39mraise\u001b[39;00m \u001b[39mValueError\u001b[39;00m(\n\u001b[0;32m    392\u001b[0m             \u001b[39m\"\u001b[39m\u001b[39mMime type rendering requires ipython but it is not installed\u001b[39m\u001b[39m\"\u001b[39m\n\u001b[0;32m    393\u001b[0m         )\n\u001b[0;32m    395\u001b[0m     \u001b[39mif\u001b[39;00m \u001b[39mnot\u001b[39;00m nbformat \u001b[39mor\u001b[39;00m LooseVersion(nbformat\u001b[39m.\u001b[39m__version__) \u001b[39m<\u001b[39m LooseVersion(\u001b[39m\"\u001b[39m\u001b[39m4.2.0\u001b[39m\u001b[39m\"\u001b[39m):\n\u001b[1;32m--> 396\u001b[0m         \u001b[39mraise\u001b[39;00m \u001b[39mValueError\u001b[39;00m(\n\u001b[0;32m    397\u001b[0m             \u001b[39m\"\u001b[39m\u001b[39mMime type rendering requires nbformat>=4.2.0 but it is not installed\u001b[39m\u001b[39m\"\u001b[39m\n\u001b[0;32m    398\u001b[0m         )\n\u001b[0;32m    400\u001b[0m     ipython_display\u001b[39m.\u001b[39mdisplay(bundle, raw\u001b[39m=\u001b[39m\u001b[39mTrue\u001b[39;00m)\n\u001b[0;32m    402\u001b[0m \u001b[39m# external renderers\u001b[39;00m\n",
      "\u001b[1;31mValueError\u001b[0m: Mime type rendering requires nbformat>=4.2.0 but it is not installed"
     ]
    }
   ],
   "source": [
    "from app import *\n",
    "import pandas as pd\n",
    "import plotly.express as px\n",
    "import numpy as np\n",
    "import plotly.graph_objects as go\n",
    "\n",
    "\n",
    "data = {\n",
    "    'breeds': ['Yorkshire Terrier', 'Shih Tzu', 'Chihuahua', 'Maltese', 'Labrador Retriever', \n",
    "               'American Pit Bull Mix / Pit Bull Mix', 'Labrador Retriever Crossbreed', \n",
    "               'American Pit Bull Terrier/Pit Bull', 'Havanese', 'Jack Russell Terrier'],\n",
    "    'counts': [858, 839, 670, 519, 444, 379, 328, 311, 268, 255]\n",
    "}\n",
    "\n",
    "fig = go.Figure([go.Bar(x=data['breeds'], y=data['counts'])])\n",
    "\n",
    "fig.update_layout(\n",
    "    title='Races de chiens mordant le plus',\n",
    "    xaxis_title='Races de chiens',\n",
    "    yaxis_title='Nombre de morsures'\n",
    ")\n",
    "\n",
    "fig.show()"
   ]
  }
 ],
 "metadata": {
  "kernelspec": {
   "display_name": "Python 3",
   "language": "python",
   "name": "python3"
  },
  "language_info": {
   "codemirror_mode": {
    "name": "ipython",
    "version": 3
   },
   "file_extension": ".py",
   "mimetype": "text/x-python",
   "name": "python",
   "nbconvert_exporter": "python",
   "pygments_lexer": "ipython3",
   "version": "3.11.1"
  },
  "orig_nbformat": 4,
  "vscode": {
   "interpreter": {
    "hash": "4f7388e733d862585efa2e4c9cd0409ee8bec02946a4468556861c72450fb7cc"
   }
  }
 },
 "nbformat": 4,
 "nbformat_minor": 2
}
